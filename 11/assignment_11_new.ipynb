{
 "cells": [
  {
   "cell_type": "markdown",
   "metadata": {},
   "source": [
    "# K-means clustering"
   ]
  },
  {
   "cell_type": "markdown",
   "metadata": {},
   "source": [
    "## import library"
   ]
  },
  {
   "cell_type": "code",
   "execution_count": 1,
   "metadata": {},
   "outputs": [],
   "source": [
    "import numpy as np\n",
    "import matplotlib.pyplot as plt\n",
    "import matplotlib.colors as colors\n",
    "from matplotlib import cm"
   ]
  },
  {
   "cell_type": "markdown",
   "metadata": {},
   "source": [
    "## load data"
   ]
  },
  {
   "cell_type": "code",
   "execution_count": 2,
   "metadata": {},
   "outputs": [
    {
     "name": "stdout",
     "output_type": "stream",
     "text": [
      "number of data : 1000\n",
      "number of feature : 2\n"
     ]
    }
   ],
   "source": [
    "fname_data = 'assignment_11_data.csv'\n",
    "\n",
    "feature = np.genfromtxt(fname_data, delimiter=',')\n",
    "\n",
    "x = feature[:,0]\n",
    "y = feature[:,1]\n",
    "\n",
    "number_data     = np.size(feature, 0)\n",
    "number_feature  = np.size(feature, 1)\n",
    "\n",
    "print('number of data : {}'.format(number_data))\n",
    "print('number of feature : {}'.format(number_feature))"
   ]
  },
  {
   "cell_type": "markdown",
   "metadata": {},
   "source": [
    "## plot the input data"
   ]
  },
  {
   "cell_type": "code",
   "execution_count": 4,
   "metadata": {},
   "outputs": [
    {
     "data": {
      "image/png": "[encoded data removed]",
      "text/plain": [
       "<Figure size 576x576 with 1 Axes>"
      ]
     },
     "metadata": {
      "needs_background": "light"
     },
     "output_type": "display_data"
    }
   ],
   "source": [
    "plt.figure(figsize=(8,8))   \n",
    "plt.title('input data')\n",
    "# ===================================================\n",
    "# fill up the blank for plotting the data\n",
    "\n",
    "plt.title('input data')\n",
    "plt.plot(x, y, 'o', color = 'blue')\n",
    "plt.tight_layout()\n",
    "plt.show()\n",
    "\n",
    "# ==================================================="
   ]
  },
  {
   "cell_type": "markdown",
   "metadata": {},
   "source": [
    "## compute distance\n",
    "### feature : $n \\times m$, center : $1 \\times m$, distance : $n \\times 1$\n",
    "### $n$ : number of data, $m$ : number of features"
   ]
  },
  {
   "cell_type": "code",
   "execution_count": 136,
   "metadata": {},
   "outputs": [],
   "source": [
    "def compute_distance(feature, center):\n",
    "    # ===================================================\n",
    "    # fill up the function body\n",
    "    cheon = feature.shape[0]\n",
    "    temp = (feature - np.tile(center, (cheon, 1)))**2\n",
    "    distance = np.sqrt(np.sum(temp, axis=1))\n",
    "    # ===================================================\n",
    "    return distance"
   ]
  },
  {
   "cell_type": "markdown",
   "metadata": {},
   "source": [
    "## compute centroid\n",
    "### feature : $n \\times m$, label_feature : $n \\times 1$, value_label : $1 \\times 1$, centroid : $1 \\times m$\n",
    "### $n$ : number of data, $m$ : number of features"
   ]
  },
  {
   "cell_type": "code",
   "execution_count": 152,
   "metadata": {},
   "outputs": [],
   "source": [
    "def compute_centroid(feature, label_feature, value_label):\n",
    "    # ===================================================\n",
    "    # fill up the function body\n",
    "    n = label_feature.shape[0]\n",
    "    cnt = 1\n",
    "    zsum = np.array([0, 0])\n",
    "    for i in range(n):\n",
    "        if label_feature[i] == value_label:\n",
    "            cnt += 1\n",
    "            zsum = np.add(zsum, feature[i])\n",
    "    centroid = zsum / cnt\n",
    "    \n",
    "    # ===================================================\n",
    "    return centroid"
   ]
  },
  {
   "cell_type": "markdown",
   "metadata": {},
   "source": [
    "## compute label\n",
    "### distance : $n \\times k$, label_feature : $n \\times 1$\n",
    "### $n$ : number of data, $k$ : number of clusters"
   ]
  },
  {
   "cell_type": "code",
   "execution_count": 153,
   "metadata": {},
   "outputs": [],
   "source": [
    "def compute_label(distance):\n",
    "    # ===================================================\n",
    "    # fill up the function body\n",
    "    \n",
    "    index_label_feature = np.argmin(distance, axis=1)\n",
    "    \n",
    "    # ===================================================\n",
    "    return index_label_feature\n"
   ]
  },
  {
   "cell_type": "code",
   "execution_count": 154,
   "metadata": {},
   "outputs": [],
   "source": [
    "# ===================================================\n",
    "# assign the number of clusters and iterations\n",
    "number_cluster      = 5\n",
    "number_iteration    = 100\n",
    "# ==================================================="
   ]
  },
  {
   "cell_type": "markdown",
   "metadata": {},
   "source": [
    "## plot the results"
   ]
  },
  {
   "cell_type": "code",
   "execution_count": 155,
   "metadata": {},
   "outputs": [
    {
     "name": "stdout",
     "output_type": "stream",
     "text": [
      "[[40.60199765]\n",
      " [38.54571354]\n",
      " [40.18700452]\n",
      " [45.0477669 ]\n",
      " [41.63246128]\n",
      " [47.4761679 ]\n",
      " [44.12482297]\n",
      " [48.19064323]\n",
      " [44.83808374]\n",
      " [48.35823776]\n",
      " [46.57865006]\n",
      " [48.53082368]\n",
      " [47.8379457 ]\n",
      " [48.64707512]\n",
      " [48.23046326]\n",
      " [49.04620697]\n",
      " [48.39687953]\n",
      " [49.47945147]\n",
      " [48.43558843]\n",
      " [49.67739298]\n",
      " [48.50432558]\n",
      " [49.6977484 ]\n",
      " [48.56733877]\n",
      " [49.61268055]\n",
      " [48.66230103]\n",
      " [49.54312012]\n",
      " [49.00128205]\n",
      " [49.5417872 ]\n",
      " [49.4134354 ]\n",
      " [49.53366759]\n",
      " [49.64301375]\n",
      " [49.53187963]\n",
      " [49.70969136]\n",
      " [49.53187963]\n",
      " [49.61980883]\n",
      " [49.53187963]\n",
      " [49.56088576]\n",
      " [49.53187963]\n",
      " [49.53513731]\n",
      " [49.53187963]\n",
      " [49.53366759]\n",
      " [49.53187963]\n",
      " [49.53187963]\n",
      " [49.53187963]\n",
      " [49.53187963]\n",
      " [49.53187963]\n",
      " [49.53187963]\n",
      " [49.53187963]\n",
      " [49.53187963]\n",
      " [49.53187963]\n",
      " [49.53187963]\n",
      " [49.53187963]\n",
      " [49.53187963]\n",
      " [49.53187963]\n",
      " [49.53187963]\n",
      " [49.53187963]\n",
      " [49.53187963]\n",
      " [49.53187963]\n",
      " [49.53187963]\n",
      " [49.53187963]\n",
      " [49.53187963]\n",
      " [49.53187963]\n",
      " [49.53187963]\n",
      " [49.53187963]\n",
      " [49.53187963]\n",
      " [49.53187963]\n",
      " [49.53187963]\n",
      " [49.53187963]\n",
      " [49.53187963]\n",
      " [49.53187963]\n",
      " [49.53187963]\n",
      " [49.53187963]\n",
      " [49.53187963]\n",
      " [49.53187963]\n",
      " [49.53187963]\n",
      " [49.53187963]\n",
      " [49.53187963]\n",
      " [49.53187963]\n",
      " [49.53187963]\n",
      " [49.53187963]\n",
      " [49.53187963]\n",
      " [49.53187963]\n",
      " [49.53187963]\n",
      " [49.53187963]\n",
      " [49.53187963]\n",
      " [49.53187963]\n",
      " [49.53187963]\n",
      " [49.53187963]\n",
      " [49.53187963]\n",
      " [49.53187963]\n",
      " [49.53187963]\n",
      " [49.53187963]\n",
      " [49.53187963]\n",
      " [49.53187963]\n",
      " [49.53187963]\n",
      " [49.53187963]\n",
      " [49.53187963]\n",
      " [49.53187963]\n",
      " [49.53187963]\n",
      " [49.53187963]]\n"
     ]
    }
   ],
   "source": [
    "distance            = np.zeros(shape=(number_data, number_cluster))\n",
    "centroid            = np.zeros(shape=(number_cluster, number_feature))\n",
    "loss_iteration      = np.zeros(shape=(number_iteration, 1))\n",
    "centroid_iteration  = np.zeros(shape=(number_iteration, number_cluster, number_feature))\n",
    "\n",
    "label_feature = np.random.randint(0, number_cluster, size=(number_data, 1))\n",
    "dT = distance.T\n",
    "for i in range(number_iteration):\n",
    "    for k in range(number_cluster):\n",
    "        # ===================================================\n",
    "        # fill up the blank\n",
    "        dT[k] = compute_distance(feature, centroid[k])\n",
    "        centroid[k] = compute_centroid(feature, label_feature, k)\n",
    "        centroid_iteration[i][k] = centroid[k]\n",
    "        # ===================================================\n",
    "    # ===================================================\n",
    "    # fill up the blank\n",
    "    distance = dT.T\n",
    "    loss_iteration[i] = np.sum(distance)*(1/number_data)\n",
    "    label_feature = compute_label(distance)\n",
    "    # ===================================================\n",
    "print(loss_iteration)"
   ]
  },
  {
   "cell_type": "code",
   "execution_count": 156,
   "metadata": {},
   "outputs": [],
   "source": [
    "def plot_data(feature):\n",
    "    \n",
    "    plt.figure(figsize=(8,8))   \n",
    "    plt.title('input data')\n",
    "    # ===================================================\n",
    "    # fill up the blank\n",
    "    x = feature[:,0]\n",
    "    y = feature[:,1]\n",
    "    plt.title('input data')\n",
    "    plt.plot(x, y, 'o', color = 'blue')\n",
    "   \n",
    "    # ===================================================\n",
    "    plt.tight_layout()\n",
    "    plt.show()"
   ]
  },
  {
   "cell_type": "code",
   "execution_count": 157,
   "metadata": {},
   "outputs": [],
   "source": [
    "num = np.arange(number_iteration)\n",
    "def plot_loss_curve(loss_iteration):\n",
    "\n",
    "    plt.figure(figsize=(8,6))   # USE THIS VALUE for the size of the figure\n",
    "    plt.title('loss')\n",
    "    # ===================================================\n",
    "    # fill up the blank\n",
    "    \n",
    "    plt.plot(num, loss_iteration, '-', color = 'red')\n",
    "    plt.xlabel('iteration')\n",
    "    plt.ylabel('loss')\n",
    "    \n",
    "    # ===================================================\n",
    "    plt.tight_layout()\n",
    "    plt.show()"
   ]
  },
  {
   "cell_type": "code",
   "execution_count": 158,
   "metadata": {},
   "outputs": [],
   "source": [
    "\n",
    "def plot_centroid(centroid_iteration):\n",
    "\n",
    "    plt.figure(figsize=(8,8))   # USE THIS VALUE for the size of the figure\n",
    "    plt.title('centroid')\n",
    "    # ===================================================\n",
    "    # fill up the blank\n",
    "    # initial\n",
    "    plt.plot(centroid_iteration[0][0][0], centroid_iteration[0][0][1], 'o', color = 'blue', label = 'initial')\n",
    "    for i in range(1, len(centroid_iteration.shape[1])):\n",
    "        plt.plot(centroid_iteration[0][i][0], centroid_iteration[0][i][1], 'o', color = 'blue')\n",
    "    # line    \n",
    "    for i in range(len(centroid_iteration.shape[1])):\n",
    "        plt.plot(num, centroid_iteration, '-', label = 'cluster='+str(i))\n",
    "    # final    \n",
    "    plt.plot(centroid_iteration[0][0][0], centroid_iteration[0][0][1], 'o', color = 'red', label = 'final')\n",
    "    for i in range(1, len(centroid_iteration.shape[1])):\n",
    "        plt.plot(centroid_iteration[-1][i][0], centroid_iteration[-1][i][1], 'o', color = 'red')\n",
    "    \n",
    "    plt.legend()\n",
    "    # ===================================================\n",
    "    plt.tight_layout()\n",
    "    plt.show()"
   ]
  },
  {
   "cell_type": "code",
   "execution_count": 159,
   "metadata": {},
   "outputs": [],
   "source": [
    "def plot_cluster(feature, label_feature, label_cluster):\n",
    "\n",
    "    plt.figure(figsize=(8,8))   # USE THIS VALUE for the size of the figure\n",
    "    plt.title('cluster')\n",
    "    # ===================================================\n",
    "    # fill up the blank\n",
    "    #\n",
    "    \n",
    "    \n",
    "    plt.colorbar()\n",
    "    # ===================================================\n",
    "    plt.tight_layout()\n",
    "    plt.show()\n"
   ]
  },
  {
   "cell_type": "markdown",
   "metadata": {},
   "source": [
    "***"
   ]
  },
  {
   "cell_type": "markdown",
   "metadata": {},
   "source": [
    "# results"
   ]
  },
  {
   "cell_type": "markdown",
   "metadata": {},
   "source": [
    "***"
   ]
  },
  {
   "cell_type": "markdown",
   "metadata": {},
   "source": [
    "1. plot the input data"
   ]
  },
  {
   "cell_type": "code",
   "execution_count": 160,
   "metadata": {},
   "outputs": [
    {
     "data": {
      "image/png": "[encoded data removed]",
      "text/plain": [
       "<Figure size 576x576 with 1 Axes>"
      ]
     },
     "metadata": {
      "needs_background": "light"
     },
     "output_type": "display_data"
    }
   ],
   "source": [
    "plot_data(feature)"
   ]
  },
  {
   "cell_type": "markdown",
   "metadata": {},
   "source": [
    "***"
   ]
  },
  {
   "cell_type": "markdown",
   "metadata": {},
   "source": [
    "2. plot the loss over the iterations with the number of clusters being 5"
   ]
  },
  {
   "cell_type": "code",
   "execution_count": 161,
   "metadata": {},
   "outputs": [
    {
     "data": {
      "image/png": "[encoded data removed]",
      "text/plain": [
       "<Figure size 576x432 with 1 Axes>"
      ]
     },
     "metadata": {
      "needs_background": "light"
     },
     "output_type": "display_data"
    }
   ],
   "source": [
    "plot_loss_curve(loss_iteration)"
   ]
  },
  {
   "cell_type": "markdown",
   "metadata": {},
   "source": [
    "***"
   ]
  },
  {
   "cell_type": "markdown",
   "metadata": {},
   "source": [
    "3. plot the trajectory of the centroid for each cluster (blue circle for the initial and red square for the final) with the number of clusters being 5"
   ]
  },
  {
   "cell_type": "code",
   "execution_count": 162,
   "metadata": {},
   "outputs": [
    {
     "ename": "TypeError",
     "evalue": "object of type 'int' has no len()",
     "output_type": "error",
     "traceback": [
      "\u001b[1;31m---------------------------------------------------------------------------\u001b[0m",
      "\u001b[1;31mTypeError\u001b[0m                                 Traceback (most recent call last)",
      "\u001b[1;32m<ipython-input-162-a141093ea697>\u001b[0m in \u001b[0;36m<module>\u001b[1;34m\u001b[0m\n\u001b[1;32m----> 1\u001b[1;33m \u001b[0mplot_centroid\u001b[0m\u001b[1;33m(\u001b[0m\u001b[0mcentroid_iteration\u001b[0m\u001b[1;33m)\u001b[0m\u001b[1;33m\u001b[0m\u001b[1;33m\u001b[0m\u001b[0m\n\u001b[0m",
      "\u001b[1;32m<ipython-input-158-25b774981764>\u001b[0m in \u001b[0;36mplot_centroid\u001b[1;34m(centroid_iteration)\u001b[0m\n\u001b[0;32m      7\u001b[0m     \u001b[1;31m# initial\u001b[0m\u001b[1;33m\u001b[0m\u001b[1;33m\u001b[0m\u001b[1;33m\u001b[0m\u001b[0m\n\u001b[0;32m      8\u001b[0m     \u001b[0mplt\u001b[0m\u001b[1;33m.\u001b[0m\u001b[0mplot\u001b[0m\u001b[1;33m(\u001b[0m\u001b[0mcentroid_iteration\u001b[0m\u001b[1;33m[\u001b[0m\u001b[1;36m0\u001b[0m\u001b[1;33m]\u001b[0m\u001b[1;33m[\u001b[0m\u001b[1;36m0\u001b[0m\u001b[1;33m]\u001b[0m\u001b[1;33m[\u001b[0m\u001b[1;36m0\u001b[0m\u001b[1;33m]\u001b[0m\u001b[1;33m,\u001b[0m \u001b[0mcentroid_iteration\u001b[0m\u001b[1;33m[\u001b[0m\u001b[1;36m0\u001b[0m\u001b[1;33m]\u001b[0m\u001b[1;33m[\u001b[0m\u001b[1;36m0\u001b[0m\u001b[1;33m]\u001b[0m\u001b[1;33m[\u001b[0m\u001b[1;36m1\u001b[0m\u001b[1;33m]\u001b[0m\u001b[1;33m,\u001b[0m \u001b[1;34m'o'\u001b[0m\u001b[1;33m,\u001b[0m \u001b[0mcolor\u001b[0m \u001b[1;33m=\u001b[0m \u001b[1;34m'blue'\u001b[0m\u001b[1;33m,\u001b[0m \u001b[0mlabel\u001b[0m \u001b[1;33m=\u001b[0m \u001b[1;34m'initial'\u001b[0m\u001b[1;33m)\u001b[0m\u001b[1;33m\u001b[0m\u001b[1;33m\u001b[0m\u001b[0m\n\u001b[1;32m----> 9\u001b[1;33m     \u001b[1;32mfor\u001b[0m \u001b[0mi\u001b[0m \u001b[1;32min\u001b[0m \u001b[0mrange\u001b[0m\u001b[1;33m(\u001b[0m\u001b[1;36m1\u001b[0m\u001b[1;33m,\u001b[0m \u001b[0mlen\u001b[0m\u001b[1;33m(\u001b[0m\u001b[0mcentroid_iteration\u001b[0m\u001b[1;33m.\u001b[0m\u001b[0mshape\u001b[0m\u001b[1;33m[\u001b[0m\u001b[1;36m1\u001b[0m\u001b[1;33m]\u001b[0m\u001b[1;33m)\u001b[0m\u001b[1;33m)\u001b[0m\u001b[1;33m:\u001b[0m\u001b[1;33m\u001b[0m\u001b[1;33m\u001b[0m\u001b[0m\n\u001b[0m\u001b[0;32m     10\u001b[0m         \u001b[0mplt\u001b[0m\u001b[1;33m.\u001b[0m\u001b[0mplot\u001b[0m\u001b[1;33m(\u001b[0m\u001b[0mcentroid_iteration\u001b[0m\u001b[1;33m[\u001b[0m\u001b[1;36m0\u001b[0m\u001b[1;33m]\u001b[0m\u001b[1;33m[\u001b[0m\u001b[0mi\u001b[0m\u001b[1;33m]\u001b[0m\u001b[1;33m[\u001b[0m\u001b[1;36m0\u001b[0m\u001b[1;33m]\u001b[0m\u001b[1;33m,\u001b[0m \u001b[0mcentroid_iteration\u001b[0m\u001b[1;33m[\u001b[0m\u001b[1;36m0\u001b[0m\u001b[1;33m]\u001b[0m\u001b[1;33m[\u001b[0m\u001b[0mi\u001b[0m\u001b[1;33m]\u001b[0m\u001b[1;33m[\u001b[0m\u001b[1;36m1\u001b[0m\u001b[1;33m]\u001b[0m\u001b[1;33m,\u001b[0m \u001b[1;34m'o'\u001b[0m\u001b[1;33m,\u001b[0m \u001b[0mcolor\u001b[0m \u001b[1;33m=\u001b[0m \u001b[1;34m'blue'\u001b[0m\u001b[1;33m)\u001b[0m\u001b[1;33m\u001b[0m\u001b[1;33m\u001b[0m\u001b[0m\n\u001b[0;32m     11\u001b[0m     \u001b[1;31m# line\u001b[0m\u001b[1;33m\u001b[0m\u001b[1;33m\u001b[0m\u001b[1;33m\u001b[0m\u001b[0m\n",
      "\u001b[1;31mTypeError\u001b[0m: object of type 'int' has no len()"
     ]
    },
    {
     "data": {
      "image/png": "[encoded data removed]",
      "text/plain": [
       "<Figure size 576x576 with 1 Axes>"
      ]
     },
     "metadata": {
      "needs_background": "light"
     },
     "output_type": "display_data"
    }
   ],
   "source": [
    "plot_centroid(centroid_iteration)"
   ]
  },
  {
   "cell_type": "markdown",
   "metadata": {},
   "source": [
    "***"
   ]
  },
  {
   "cell_type": "markdown",
   "metadata": {},
   "source": [
    "4. plot the final clustering result with the number of clusters being 5"
   ]
  },
  {
   "cell_type": "code",
   "execution_count": null,
   "metadata": {},
   "outputs": [],
   "source": [
    "plot_cluster(feature, label_feature, label_cluster)"
   ]
  },
  {
   "cell_type": "markdown",
   "metadata": {},
   "source": [
    "***"
   ]
  },
  {
   "cell_type": "markdown",
   "metadata": {},
   "source": [
    "5. plot the loss over the iterations with the number of clusters being 10"
   ]
  },
  {
   "cell_type": "code",
   "execution_count": null,
   "metadata": {},
   "outputs": [],
   "source": [
    "plot_loss_curve(loss_iteration)"
   ]
  },
  {
   "cell_type": "markdown",
   "metadata": {},
   "source": [
    "***"
   ]
  },
  {
   "cell_type": "markdown",
   "metadata": {},
   "source": [
    "6. plot the trajectory of the centroid for each cluster (blue circle for the initial and red square for the final) with the number of clusters being 10"
   ]
  },
  {
   "cell_type": "code",
   "execution_count": null,
   "metadata": {},
   "outputs": [],
   "source": [
    "plot_centroid(centroid_iteration)"
   ]
  },
  {
   "cell_type": "markdown",
   "metadata": {},
   "source": [
    "***"
   ]
  },
  {
   "cell_type": "markdown",
   "metadata": {},
   "source": [
    "7. plot the final clustering result with the number of clusters being 10"
   ]
  },
  {
   "cell_type": "code",
   "execution_count": null,
   "metadata": {},
   "outputs": [],
   "source": [
    "plot_cluster(feature, label_feature, label_cluster)"
   ]
  },
  {
   "cell_type": "code",
   "execution_count": null,
   "metadata": {},
   "outputs": [],
   "source": []
  }
 ],
 "metadata": {
  "kernelspec": {
   "display_name": "Python 3",
   "language": "python",
   "name": "python3"
  },
  "language_info": {
   "codemirror_mode": {
    "name": "ipython",
    "version": 3
   },
   "file_extension": ".py",
   "mimetype": "text/x-python",
   "name": "python",
   "nbconvert_exporter": "python",
   "pygments_lexer": "ipython3",
   "version": "3.8.3"
  }
 },
 "nbformat": 4,
 "nbformat_minor": 4
}
