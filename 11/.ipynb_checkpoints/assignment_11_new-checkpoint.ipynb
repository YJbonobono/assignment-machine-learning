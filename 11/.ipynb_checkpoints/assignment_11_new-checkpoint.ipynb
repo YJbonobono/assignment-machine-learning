{
 "cells": [
  {
   "cell_type": "markdown",
   "metadata": {},
   "source": [
    "# K-means clustering"
   ]
  },
  {
   "cell_type": "markdown",
   "metadata": {},
   "source": [
    "## import library"
   ]
  },
  {
   "cell_type": "code",
   "execution_count": 1,
   "metadata": {},
   "outputs": [],
   "source": [
    "import numpy as np\n",
    "import matplotlib.pyplot as plt\n",
    "import matplotlib.colors as colors\n",
    "from matplotlib import cm"
   ]
  },
  {
   "cell_type": "markdown",
   "metadata": {},
   "source": [
    "## load data"
   ]
  },
  {
   "cell_type": "code",
   "execution_count": 2,
   "metadata": {},
   "outputs": [
    {
     "name": "stdout",
     "output_type": "stream",
     "text": [
      "number of data : 1000\n",
      "number of feature : 2\n"
     ]
    }
   ],
   "source": [
    "fname_data = 'assignment_11_data.csv'\n",
    "\n",
    "feature = np.genfromtxt(fname_data, delimiter=',')\n",
    "\n",
    "x = feature[:,0]\n",
    "y = feature[:,1]\n",
    "\n",
    "number_data     = np.size(feature, 0)\n",
    "number_feature  = np.size(feature, 1)\n",
    "\n",
    "print('number of data : {}'.format(number_data))\n",
    "print('number of feature : {}'.format(number_feature))"
   ]
  },
  {
   "cell_type": "markdown",
   "metadata": {},
   "source": [
    "## plot the input data"
   ]
  },
  {
   "cell_type": "code",
   "execution_count": 3,
   "metadata": {},
   "outputs": [
    {
     "data": {
      "image/png": "[encoded data removed]",
      "text/plain": [
       "<Figure size 576x576 with 1 Axes>"
      ]
     },
     "metadata": {
      "needs_background": "light"
     },
     "output_type": "display_data"
    }
   ],
   "source": [
    "plt.figure(figsize=(8,8))   \n",
    "plt.title('input data')\n",
    "# ===================================================\n",
    "# fill up the blank for plotting the data\n",
    "\n",
    "plt.title('input data')\n",
    "plt.plot(x, y, 'o', color = 'blue')\n",
    "plt.tight_layout()\n",
    "plt.show()\n",
    "\n",
    "# ==================================================="
   ]
  },
  {
   "cell_type": "markdown",
   "metadata": {},
   "source": [
    "## compute distance\n",
    "### feature : $n \\times m$, center : $1 \\times m$, distance : $n \\times 1$\n",
    "### $n$ : number of data, $m$ : number of features"
   ]
  },
  {
   "cell_type": "code",
   "execution_count": null,
   "metadata": {},
   "outputs": [],
   "source": [
    "def compute_distance(feature, center):\n",
    "    # ===================================================\n",
    "    # fill up the function body\n",
    "    #\n",
    "    #\n",
    "    # ===================================================\n",
    "    return distance"
   ]
  },
  {
   "cell_type": "markdown",
   "metadata": {},
   "source": [
    "## compute centroid\n",
    "### feature : $n \\times m$, label_feature : $n \\times 1$, value_label : $1 \\times 1$, centroid : $1 \\times m$\n",
    "### $n$ : number of data, $m$ : number of features"
   ]
  },
  {
   "cell_type": "code",
   "execution_count": null,
   "metadata": {},
   "outputs": [],
   "source": [
    "def compute_centroid(feature, label_feature, value_label):\n",
    "    # ===================================================\n",
    "    # fill up the function body\n",
    "    #\n",
    "    #\n",
    "    # ===================================================\n",
    "    return centroid"
   ]
  },
  {
   "cell_type": "markdown",
   "metadata": {},
   "source": [
    "## compute label\n",
    "### distance : $n \\times k$, label_feature : $n \\times 1$\n",
    "### $n$ : number of data, $k$ : number of clusters"
   ]
  },
  {
   "cell_type": "code",
   "execution_count": null,
   "metadata": {},
   "outputs": [],
   "source": [
    "def compute_label(distance):\n",
    "    # ===================================================\n",
    "    # fill up the function body\n",
    "    #\n",
    "    #\n",
    "    # ===================================================\n",
    "    return index_label_feature\n"
   ]
  },
  {
   "cell_type": "code",
   "execution_count": null,
   "metadata": {},
   "outputs": [],
   "source": [
    "# ===================================================\n",
    "# assign the number of clusters and iterations\n",
    "number_cluster      = k\n",
    "number_iteration    = max_iter\n",
    "# ==================================================="
   ]
  },
  {
   "cell_type": "code",
   "execution_count": null,
   "metadata": {},
   "outputs": [],
   "source": [
    "distance            = np.zeros(shape=(number_data, number_cluster))\n",
    "centroid            = np.zeros(shape=(number_cluster, number_feature))\n",
    "loss_iteration      = np.zeros(shape=(number_iteration, 1))\n",
    "centroid_iteration  = np.zeros(shape=(number_iteration, number_cluster, number_feature))\n",
    "\n",
    "for i in range(number_iteration):\n",
    "\n",
    "    for k in range(len(label_cluster)):\n",
    "        # ===================================================\n",
    "        # fill up the blank\n",
    "        #\n",
    "        #\n",
    "        # ===================================================\n",
    "\n",
    "    # ===================================================\n",
    "    # fill up the blank\n",
    "    #\n",
    "    #\n",
    "    # ==================================================="
   ]
  },
  {
   "cell_type": "markdown",
   "metadata": {},
   "source": [
    "## plot the results"
   ]
  },
  {
   "cell_type": "code",
   "execution_count": null,
   "metadata": {},
   "outputs": [],
   "source": [
    "def plot_data(feature):\n",
    "    \n",
    "    plt.figure(figsize=(8,8))   \n",
    "    plt.title('input data')\n",
    "    # ===================================================\n",
    "    # fill up the blank\n",
    "    #\n",
    "    #\n",
    "    # ===================================================\n",
    "    plt.tight_layout()\n",
    "    plt.show()"
   ]
  },
  {
   "cell_type": "code",
   "execution_count": null,
   "metadata": {},
   "outputs": [],
   "source": [
    "def plot_loss_curve(loss_iteration):\n",
    "\n",
    "    plt.figure(figsize=(8,6))   # USE THIS VALUE for the size of the figure\n",
    "    plt.title('loss')\n",
    "    # ===================================================\n",
    "    # fill up the blank\n",
    "    #\n",
    "    #\n",
    "    # ===================================================\n",
    "    plt.tight_layout()\n",
    "    plt.show()"
   ]
  },
  {
   "cell_type": "code",
   "execution_count": null,
   "metadata": {},
   "outputs": [],
   "source": [
    "\n",
    "def plot_centroid(centroid_iteration):\n",
    "\n",
    "    plt.figure(figsize=(8,8))   # USE THIS VALUE for the size of the figure\n",
    "    plt.title('centroid')\n",
    "    # ===================================================\n",
    "    # fill up the blank\n",
    "    #\n",
    "    #\n",
    "    # ===================================================\n",
    "    plt.tight_layout()\n",
    "    plt.show()"
   ]
  },
  {
   "cell_type": "code",
   "execution_count": null,
   "metadata": {},
   "outputs": [],
   "source": [
    "def plot_cluster(feature, label_feature, label_cluster):\n",
    "\n",
    "    plt.figure(figsize=(8,8))   # USE THIS VALUE for the size of the figure\n",
    "    plt.title('cluster')\n",
    "    # ===================================================\n",
    "    # fill up the blank\n",
    "    #\n",
    "    #\n",
    "    # ===================================================\n",
    "    plt.tight_layout()\n",
    "    plt.show()\n"
   ]
  },
  {
   "cell_type": "markdown",
   "metadata": {},
   "source": [
    "***"
   ]
  },
  {
   "cell_type": "markdown",
   "metadata": {},
   "source": [
    "# results"
   ]
  },
  {
   "cell_type": "markdown",
   "metadata": {},
   "source": [
    "***"
   ]
  },
  {
   "cell_type": "markdown",
   "metadata": {},
   "source": [
    "1. plot the input data"
   ]
  },
  {
   "cell_type": "code",
   "execution_count": null,
   "metadata": {},
   "outputs": [],
   "source": [
    "plot_data(feature)"
   ]
  },
  {
   "cell_type": "markdown",
   "metadata": {},
   "source": [
    "***"
   ]
  },
  {
   "cell_type": "markdown",
   "metadata": {},
   "source": [
    "2. plot the loss over the iterations with the number of clusters being 5"
   ]
  },
  {
   "cell_type": "code",
   "execution_count": null,
   "metadata": {},
   "outputs": [],
   "source": [
    "plot_loss_curve(loss_iteration)"
   ]
  },
  {
   "cell_type": "markdown",
   "metadata": {},
   "source": [
    "***"
   ]
  },
  {
   "cell_type": "markdown",
   "metadata": {},
   "source": [
    "3. plot the trajectory of the centroid for each cluster (blue circle for the initial and red square for the final) with the number of clusters being 5"
   ]
  },
  {
   "cell_type": "code",
   "execution_count": null,
   "metadata": {},
   "outputs": [],
   "source": [
    "plot_centroid(centroid_iteration)"
   ]
  },
  {
   "cell_type": "markdown",
   "metadata": {},
   "source": [
    "***"
   ]
  },
  {
   "cell_type": "markdown",
   "metadata": {},
   "source": [
    "4. plot the final clustering result with the number of clusters being 5"
   ]
  },
  {
   "cell_type": "code",
   "execution_count": null,
   "metadata": {},
   "outputs": [],
   "source": [
    "plot_cluster(feature, label_feature, label_cluster)"
   ]
  },
  {
   "cell_type": "markdown",
   "metadata": {},
   "source": [
    "***"
   ]
  },
  {
   "cell_type": "markdown",
   "metadata": {},
   "source": [
    "5. plot the loss over the iterations with the number of clusters being 10"
   ]
  },
  {
   "cell_type": "code",
   "execution_count": null,
   "metadata": {},
   "outputs": [],
   "source": [
    "plot_loss_curve(loss_iteration)"
   ]
  },
  {
   "cell_type": "markdown",
   "metadata": {},
   "source": [
    "***"
   ]
  },
  {
   "cell_type": "markdown",
   "metadata": {},
   "source": [
    "6. plot the trajectory of the centroid for each cluster (blue circle for the initial and red square for the final) with the number of clusters being 10"
   ]
  },
  {
   "cell_type": "code",
   "execution_count": null,
   "metadata": {},
   "outputs": [],
   "source": [
    "plot_centroid(centroid_iteration)"
   ]
  },
  {
   "cell_type": "markdown",
   "metadata": {},
   "source": [
    "***"
   ]
  },
  {
   "cell_type": "code",
   "execution_count": null,
   "metadata": {},
   "outputs": [],
   "source": [
    "7. plot the final clustering result with the number of clusters being 10"
   ]
  },
  {
   "cell_type": "code",
   "execution_count": null,
   "metadata": {},
   "outputs": [],
   "source": [
    "plot_cluster(feature, label_feature, label_cluster)"
   ]
  },
  {
   "cell_type": "code",
   "execution_count": null,
   "metadata": {},
   "outputs": [],
   "source": []
  }
 ],
 "metadata": {
  "kernelspec": {
   "display_name": "Python 3",
   "language": "python",
   "name": "python3"
  },
  "language_info": {
   "codemirror_mode": {
    "name": "ipython",
    "version": 3
   },
   "file_extension": ".py",
   "mimetype": "text/x-python",
   "name": "python",
   "nbconvert_exporter": "python",
   "pygments_lexer": "ipython3",
   "version": "3.8.3"
  }
 },
 "nbformat": 4,
 "nbformat_minor": 4
}
