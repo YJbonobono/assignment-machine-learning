{
 "cells": [
  {
   "cell_type": "markdown",
   "metadata": {},
   "source": [
    "# Binary classification based on Logistic Regression using non-linear regression function"
   ]
  },
  {
   "cell_type": "markdown",
   "metadata": {},
   "source": [
    "## import library"
   ]
  },
  {
   "cell_type": "code",
   "execution_count": 2,
   "metadata": {},
   "outputs": [],
   "source": [
    "import numpy as np\n",
    "import matplotlib.pyplot as plt\n",
    "import matplotlib.colors as colors"
   ]
  },
  {
   "cell_type": "markdown",
   "metadata": {},
   "source": [
    "## load data"
   ]
  },
  {
   "cell_type": "code",
   "execution_count": 3,
   "metadata": {},
   "outputs": [],
   "source": [
    "fname_data1 = 'assignment_09_data1.txt'\n",
    "fname_data2 = 'assignment_09_data2.txt'\n",
    "\n",
    "data1 = np.genfromtxt(fname_data1, delimiter=',')\n",
    "data2 = np.genfromtxt(fname_data2, delimiter=',')\n",
    "\n",
    "# data[:,0] : x\n",
    "# data[:,1] : y\n",
    "# data[:,2] : label {0, 1}"
   ]
  },
  {
   "cell_type": "markdown",
   "metadata": {},
   "source": [
    "## plot the data"
   ]
  },
  {
   "cell_type": "code",
   "execution_count": 6,
   "metadata": {},
   "outputs": [
    {
     "data": {
      "image/png": "[encoded data removed]",
      "text/plain": [
       "<Figure size 1152x576 with 2 Axes>"
      ]
     },
     "metadata": {
      "needs_background": "light"
     },
     "output_type": "display_data"
    }
   ],
   "source": [
    "# data 분류\n",
    "num_data1, num_data2 = data1.shape[0], data2.shape[1]\n",
    "data1_zero, data1_one = [],[]\n",
    "data2_zero, data2_one = [],[]\n",
    "\n",
    "for data in data1:\n",
    "    if data[2] == 0:\n",
    "        data1_zero.append(data[:1])\n",
    "    else:\n",
    "        data1_one.append(data[:1])\n",
    "for data in data2:\n",
    "    if data[2] == 0:\n",
    "        data2_zero.append(data[:1])\n",
    "    else:\n",
    "        data2_one.append(data[:1])\n",
    "        \n",
    "data1_zero, data1_one = np.array(data1_zero), np.array(data1_one)\n",
    "data2_zero, data2_one = np.array(data2_zero), np.array(data2_one)\n",
    "\n",
    "\n",
    "# plot\n",
    "plt.figure(figsize=(16,8))\n",
    "\n",
    "# data1\n",
    "plt.subplot(121)\n",
    "plt.plot(data1_zero[0], data1_zero[1], '.', color = 'blue', label='class 0')\n",
    "plt.plot(data1_one[0], data1_one[1], '.', color = 'red', label='class 1')\n",
    "plt.title('data points')\n",
    "\n",
    "# data2\n",
    "plt.subplot(122)\n",
    "plt.plot(data2_zero[0], data2_zero[1], '.', color = 'blue', label='class 0')\n",
    "plt.plot(data2_one[0], data2_one[1], '.', color = 'red', label='class 1')\n",
    "plt.title('data points (every 10 points)')\n",
    "\n",
    "plt.legend()\n",
    "plt.axis('equal')\n",
    "plt.tight_layout()\n",
    "plt.show()\n",
    "\n"
   ]
  },
  {
   "cell_type": "markdown",
   "metadata": {},
   "source": [
    "## define the feature function for each data to obtain the best accuracy"
   ]
  },
  {
   "cell_type": "code",
   "execution_count": null,
   "metadata": {},
   "outputs": [],
   "source": [
    "def feature_function1(x, y):\n",
    "    #\n",
    "    #\n",
    "    # fill up the function body\n",
    "    #\n",
    "    #\n",
    "    return feature"
   ]
  },
  {
   "cell_type": "code",
   "execution_count": null,
   "metadata": {},
   "outputs": [],
   "source": [
    "def feature_function2(x, y):\n",
    "    #\n",
    "    #\n",
    "    # fill up the function body\n",
    "    #\n",
    "    #\n",
    "    return feature"
   ]
  },
  {
   "cell_type": "markdown",
   "metadata": {},
   "source": [
    "## define regression function with a vector $\\theta$ model parameters and input data "
   ]
  },
  {
   "cell_type": "code",
   "execution_count": null,
   "metadata": {},
   "outputs": [],
   "source": [
    "def regression_function(theta, feature):\n",
    "    #\n",
    "    #\n",
    "    # fill up the function body\n",
    "    #\n",
    "    #\n",
    "    return value"
   ]
  },
  {
   "cell_type": "markdown",
   "metadata": {},
   "source": [
    "## define sigmoid function with input $x$"
   ]
  },
  {
   "cell_type": "code",
   "execution_count": null,
   "metadata": {},
   "outputs": [],
   "source": [
    "def logistic_function(x):\n",
    "    #\n",
    "    #\n",
    "    # fill up the function body\n",
    "    #\n",
    "    #\n",
    "    return z"
   ]
  },
  {
   "cell_type": "markdown",
   "metadata": {},
   "source": [
    "## define loss function with feature and label based on the logistic regression"
   ]
  },
  {
   "cell_type": "code",
   "execution_count": null,
   "metadata": {},
   "outputs": [],
   "source": [
    "def compute_loss_feature(theta, feature, label):\n",
    "    #\n",
    "    #\n",
    "    # fill up the function body\n",
    "    #\n",
    "    #\n",
    "    return loss"
   ]
  },
  {
   "cell_type": "markdown",
   "metadata": {},
   "source": [
    "## define gradient vector for the model parameters $\\theta$"
   ]
  },
  {
   "cell_type": "code",
   "execution_count": null,
   "metadata": {},
   "outputs": [],
   "source": [
    "def compute_gradient_feature(theta, feature, label):\n",
    "    #\n",
    "    #\n",
    "    # fill up the function body\n",
    "    #\n",
    "    #\n",
    "    return gradient"
   ]
  },
  {
   "cell_type": "markdown",
   "metadata": {},
   "source": [
    "## compute the accuracy"
   ]
  },
  {
   "cell_type": "code",
   "execution_count": null,
   "metadata": {},
   "outputs": [],
   "source": [
    "def compute_accuracy(theta, feature, label):\n",
    "    #\n",
    "    #\n",
    "    # fill up the function body\n",
    "    #\n",
    "    #\n",
    "    return accuracy"
   ]
  },
  {
   "cell_type": "markdown",
   "metadata": {},
   "source": [
    "## gradient descent for the model parameters $\\theta$"
   ]
  },
  {
   "cell_type": "code",
   "execution_count": null,
   "metadata": {},
   "outputs": [],
   "source": [
    "num_iteration   = 30000         # USE THIS VALUE for the number of gradient descent iterations \n",
    "learning_rate   = 0.3           # USE THIS VALUE for the learning rate\n",
    "#\n",
    "#\n",
    "# fill up the blank\n",
    "#\n",
    "#"
   ]
  },
  {
   "cell_type": "code",
   "execution_count": null,
   "metadata": {},
   "outputs": [],
   "source": []
  },
  {
   "cell_type": "code",
   "execution_count": null,
   "metadata": {},
   "outputs": [],
   "source": [
    "for i in range(1):\n",
    "    #\n",
    "    #\n",
    "    # fill up the function body\n",
    "    #\n",
    "    #\n",
    "\n",
    "theta1_optimal = theta1\n",
    "theta2_optimal = theta2"
   ]
  },
  {
   "cell_type": "markdown",
   "metadata": {},
   "source": [
    "## compute accuracy of the classifiers"
   ]
  },
  {
   "cell_type": "code",
   "execution_count": null,
   "metadata": {},
   "outputs": [],
   "source": [
    "accuracy_classifier1 = compute_accuracy(theta1_optimal, feature1, label1)\n",
    "accuracy_classifier2 = compute_accuracy(theta2_optimal, feature2, label2)"
   ]
  },
  {
   "cell_type": "markdown",
   "metadata": {},
   "source": [
    "## plot the results"
   ]
  },
  {
   "cell_type": "code",
   "execution_count": null,
   "metadata": {},
   "outputs": [],
   "source": [
    "def plot_loss_curve(loss_iteration):\n",
    "\n",
    "    plt.figure(figsize=(8,6))   # USE THIS VALUE for the size of the figure\n",
    "    #\n",
    "    # \n",
    "    # fill up the function body\n",
    "    #\n",
    "    #"
   ]
  },
  {
   "cell_type": "code",
   "execution_count": null,
   "metadata": {},
   "outputs": [],
   "source": [
    "def plot_data(data):\n",
    "    \n",
    "    plt.figure(figsize=(8,8))   # USE THIS VALUE for the size of the figure\n",
    "    #\n",
    "    # \n",
    "    # fill up the function body\n",
    "    #\n",
    "    #"
   ]
  },
  {
   "cell_type": "code",
   "execution_count": null,
   "metadata": {},
   "outputs": [],
   "source": [
    "\n",
    "def plot_model_parameter(theta_iteration):\n",
    "\n",
    "    plt.figure(figsize=(8,6))   # USE THIS VALUE for the size of the figure\n",
    "    #\n",
    "    # \n",
    "    # fill up the function body\n",
    "    #\n",
    "    #"
   ]
  },
  {
   "cell_type": "code",
   "execution_count": null,
   "metadata": {},
   "outputs": [],
   "source": [
    "plot_loss_curve(loss1_iteration)"
   ]
  },
  {
   "cell_type": "code",
   "execution_count": null,
   "metadata": {},
   "outputs": [],
   "source": [
    "plot_loss_curve(loss2_iteration)"
   ]
  },
  {
   "cell_type": "code",
   "execution_count": null,
   "metadata": {},
   "outputs": [],
   "source": [
    "plot_model_parameter(theta1_iteration)"
   ]
  },
  {
   "cell_type": "code",
   "execution_count": null,
   "metadata": {},
   "outputs": [],
   "source": [
    "plot_model_parameter(theta2_iteration)"
   ]
  },
  {
   "cell_type": "code",
   "execution_count": null,
   "metadata": {},
   "outputs": [],
   "source": [
    "def plot_classifier1(data, theta):\n",
    "    \n",
    "    plt.figure(figsize=(8,8)) # USE THIS VALUE for the size of the figure\n",
    "    #\n",
    "    # \n",
    "    # fill up the function body\n",
    "    #\n",
    "    #"
   ]
  },
  {
   "cell_type": "code",
   "execution_count": null,
   "metadata": {},
   "outputs": [],
   "source": [
    "def plot_classifier2(data, theta):\n",
    "    \n",
    "    plt.figure(figsize=(8,8)) # USE THIS VALUE for the size of the figure\n",
    "    #\n",
    "    # \n",
    "    # fill up the function body\n",
    "    #\n",
    "    #"
   ]
  },
  {
   "cell_type": "code",
   "execution_count": null,
   "metadata": {},
   "outputs": [],
   "source": [
    "plot_classifier1(data1, theta1_optimal)"
   ]
  },
  {
   "cell_type": "code",
   "execution_count": null,
   "metadata": {},
   "outputs": [],
   "source": [
    "plot_classifier2(data2, theta2_optimal)"
   ]
  },
  {
   "cell_type": "markdown",
   "metadata": {},
   "source": [
    "# * * * * * * * * * * * * * * * * * * * * * * * * * * * * * * * * *"
   ]
  },
  {
   "cell_type": "markdown",
   "metadata": {},
   "source": [
    "# * results"
   ]
  },
  {
   "cell_type": "markdown",
   "metadata": {},
   "source": [
    "# * * * * * * * * * * * * * * * * * * * * * * * * * * * * * * * * *"
   ]
  },
  {
   "cell_type": "markdown",
   "metadata": {},
   "source": [
    "### # 01. plot the input data (data1) from the file [assignment_09_data1.txt] in blue for class 0 and in red for class 1"
   ]
  },
  {
   "cell_type": "code",
   "execution_count": null,
   "metadata": {},
   "outputs": [],
   "source": [
    "plot_data(data1)"
   ]
  },
  {
   "cell_type": "markdown",
   "metadata": {},
   "source": [
    "### # 02. plot the input data (data2) from the file [assignment_09_data2.txt] in blue for class 0 and in red for class 1"
   ]
  },
  {
   "cell_type": "code",
   "execution_count": null,
   "metadata": {},
   "outputs": [],
   "source": [
    "plot_data(data2)"
   ]
  },
  {
   "cell_type": "markdown",
   "metadata": {},
   "source": [
    "### # 03. plot the values of the model parameters $\\theta$ as curves over the gradient descent iterations using different colors for data1"
   ]
  },
  {
   "cell_type": "code",
   "execution_count": null,
   "metadata": {},
   "outputs": [],
   "source": [
    "plot_model_parameter(theta1_iteration)"
   ]
  },
  {
   "cell_type": "markdown",
   "metadata": {},
   "source": [
    "### # 04. plot the values of the model parameters $\\theta$ as curves over the gradient descent iterations using different colors for data2"
   ]
  },
  {
   "cell_type": "code",
   "execution_count": null,
   "metadata": {},
   "outputs": [],
   "source": [
    "plot_model_parameter(theta2_iteration)"
   ]
  },
  {
   "cell_type": "markdown",
   "metadata": {},
   "source": [
    "### # 05. plot the loss values in red curve over the gradient descent iterations for data1"
   ]
  },
  {
   "cell_type": "code",
   "execution_count": null,
   "metadata": {},
   "outputs": [],
   "source": [
    "plot_loss_curve(loss1_iteration)"
   ]
  },
  {
   "cell_type": "markdown",
   "metadata": {},
   "source": [
    "### # 06. plot the loss values in red curve over the gradient descent iterations for data2"
   ]
  },
  {
   "cell_type": "code",
   "execution_count": null,
   "metadata": {},
   "outputs": [],
   "source": [
    "plot_loss_curve(loss2_iteration)"
   ]
  },
  {
   "cell_type": "markdown",
   "metadata": {},
   "source": [
    "### # 07. plot the classifier with the given data points superimposed for data1"
   ]
  },
  {
   "cell_type": "code",
   "execution_count": null,
   "metadata": {},
   "outputs": [],
   "source": [
    "plot_classifier1(data1, theta1_optimal)"
   ]
  },
  {
   "cell_type": "markdown",
   "metadata": {},
   "source": [
    "### # 08. plot the classifier with the given data points superimposed for data2"
   ]
  },
  {
   "cell_type": "code",
   "execution_count": null,
   "metadata": {},
   "outputs": [],
   "source": [
    "plot_classifier2(data2, theta2_optimal)"
   ]
  },
  {
   "cell_type": "markdown",
   "metadata": {},
   "source": [
    "### # 09. print out the accuracy of the obtained classifier1 for data1"
   ]
  },
  {
   "cell_type": "code",
   "execution_count": null,
   "metadata": {},
   "outputs": [],
   "source": [
    "print(accuracy_classifier1)"
   ]
  },
  {
   "cell_type": "markdown",
   "metadata": {},
   "source": [
    "### # 10. print out the accuracy of the obtained classifier2 for data1"
   ]
  },
  {
   "cell_type": "code",
   "execution_count": null,
   "metadata": {},
   "outputs": [],
   "source": [
    "print(accuracy_classifier2)"
   ]
  }
 ],
 "metadata": {
  "kernelspec": {
   "display_name": "Python 3",
   "language": "python",
   "name": "python3"
  },
  "language_info": {
   "codemirror_mode": {
    "name": "ipython",
    "version": 3
   },
   "file_extension": ".py",
   "mimetype": "text/x-python",
   "name": "python",
   "nbconvert_exporter": "python",
   "pygments_lexer": "ipython3",
   "version": "3.8.3"
  }
 },
 "nbformat": 4,
 "nbformat_minor": 4
}
